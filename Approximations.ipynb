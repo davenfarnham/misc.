{
 "cells": [
  {
   "cell_type": "code",
   "execution_count": 2,
   "metadata": {
    "collapsed": true
   },
   "outputs": [],
   "source": [
    "# A couple examples of approximating lines using Least-Squares\n",
    "#\n",
    "# Let's say you have a number of points = [(1, 1), (2, 4), (7,10)]. It's\n",
    "# clear that these points don't all fall on the same line. To solve, let's\n",
    "# convert to a matrix. The equation for a line is y = mx + b, therefore:\n",
    "#\n",
    "#                      (Matrix A) * [m, b] = y\n",
    "#\n",
    "#                   | 1 + 1 |            | 1 |\n",
    "#                   | 2 + 1 | * | m | =  | 4 |  \n",
    "#                   | 7 + 1 |   | b |    | 7 |\n",
    "#\n",
    "# Solving this with least-squares, where A = matrix x and dots '.' represent\n",
    "# matrix multiplication -> Inverse(Transpose(A).A).Transpose(A).b"
   ]
  },
  {
   "cell_type": "code",
   "execution_count": 3,
   "metadata": {
    "collapsed": true
   },
   "outputs": [],
   "source": [
    "%matplotlib inline\n",
    "import matplotlib.pyplot as plt\n",
    "from scipy import linalg\n",
    "import numpy as np"
   ]
  },
  {
   "cell_type": "code",
   "execution_count": 4,
   "metadata": {
    "collapsed": true
   },
   "outputs": [],
   "source": [
    "x = np.array([1, 2, 7])\n",
    "a = np.array([[1, 1], [2, 1], [7, 1]])\n",
    "y = np.array([1, 4, 10])"
   ]
  },
  {
   "cell_type": "code",
   "execution_count": 5,
   "metadata": {
    "collapsed": false
   },
   "outputs": [],
   "source": [
    "# x values that'll give you projection y onto A\n",
    "x_star = np.dot(np.dot(linalg.inv(np.dot(np.transpose(a), a)),np.transpose(a)), y)"
   ]
  },
  {
   "cell_type": "code",
   "execution_count": 6,
   "metadata": {
    "collapsed": false
   },
   "outputs": [
    {
     "data": {
      "image/png": "[encoded data removed]",
      "text/plain": [
       "<matplotlib.figure.Figure at 0x106b009d0>"
      ]
     },
     "metadata": {},
     "output_type": "display_data"
    }
   ],
   "source": [
    "# calculate new y values that'll form a line\n",
    "new_y = np.dot(a, x_star)\n",
    "\n",
    "plt.plot(x, y, 'ro', x, new_y, 'b-')\n",
    "plt.xlim(0, 8)\n",
    "plt.ylim(0, 11)\n",
    "plt.show()"
   ]
  },
  {
   "cell_type": "code",
   "execution_count": 7,
   "metadata": {
    "collapsed": false
   },
   "outputs": [],
   "source": [
    "# Now try the same thing with points that don't look linear\n",
    "x = np.array([-2, -1, 1, 2, 3])\n",
    "y = np.array([5, 1, 1, 4, 7])\n",
    "\n",
    "# zip 2 lists together\n",
    "def zip_lists(x, y):\n",
    "    if (not x) and (not y):\n",
    "        return []\n",
    "    else:\n",
    "        hd_x, tl_x = x[0], x[1:]\n",
    "        hd_y, tl_y = y[0], y[1:]\n",
    "        r = (zip_lists (tl_x, tl_y))\n",
    "        if not r:\n",
    "            return [[hd_x, hd_y]]\n",
    "        else:\n",
    "            return (([[hd_x, hd_y]]) + r)\n",
    "\n",
    "# create matrix A =[c1*x^2, c2*x, c3]\n",
    "a = np.insert(np.array(zip_lists(np.square(x).tolist(), x.tolist())), [2], [1], axis=1)"
   ]
  },
  {
   "cell_type": "code",
   "execution_count": 8,
   "metadata": {
    "collapsed": true
   },
   "outputs": [],
   "source": [
    "x_star = np.dot(np.dot(linalg.inv(np.dot(np.transpose(a), a)),np.transpose(a)), y)"
   ]
  },
  {
   "cell_type": "code",
   "execution_count": 15,
   "metadata": {
    "collapsed": false
   },
   "outputs": [
    {
     "data": {
      "image/png": "[encoded data removed]",
      "text/plain": [
       "<matplotlib.figure.Figure at 0x1079403d0>"
      ]
     },
     "metadata": {},
     "output_type": "display_data"
    }
   ],
   "source": [
    "def quad(x):\n",
    "    return x_star[0]*x**2 + x_star[1]*x+x_star[2]\n",
    "    \n",
    "quad_vec = np.vectorize(quad)\n",
    "\n",
    "# create x values\n",
    "full_x = np.arange(-2.6, 3.1, .1)\n",
    "# create y values with the coefficients you created through least-squares; x_star\n",
    "full_y = quad_vec(full_x)\n",
    "\n",
    "plt.plot(x, y, 'ro',full_x, full_y, 'b-')\n",
    "plt.xlim(-4, 5)\n",
    "plt.ylim(0, 9)\n",
    "plt.show()"
   ]
  },
  {
   "cell_type": "code",
   "execution_count": null,
   "metadata": {
    "collapsed": true
   },
   "outputs": [],
   "source": []
  }
 ],
 "metadata": {
  "kernelspec": {
   "display_name": "Python 2",
   "language": "python",
   "name": "python2"
  },
  "language_info": {
   "codemirror_mode": {
    "name": "ipython",
    "version": 2
   },
   "file_extension": ".py",
   "mimetype": "text/x-python",
   "name": "python",
   "nbconvert_exporter": "python",
   "pygments_lexer": "ipython2",
   "version": "2.7.11"
  }
 },
 "nbformat": 4,
 "nbformat_minor": 0
}
